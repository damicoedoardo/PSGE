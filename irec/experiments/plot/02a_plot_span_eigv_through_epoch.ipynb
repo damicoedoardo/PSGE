{
 "cells": [
  {
   "cell_type": "code",
   "execution_count": null,
   "metadata": {},
   "outputs": [],
   "source": [
    "import os\n",
    "os.getcwd()\n",
    "os.chdir(\"../../..\")\n",
    "os.getcwd()"
   ]
  },
  {
   "cell_type": "code",
   "execution_count": 2,
   "metadata": {},
   "outputs": [],
   "source": [
    "from pathlib import Path\n",
    "\n",
    "import pandas as pd\n",
    "import numpy as np\n",
    "import os\n",
    "from irec.data.implemented_datasets import *\n",
    "import seaborn as sns\n",
    "import matplotlib.pyplot as plt\n",
    "\n",
    "from irec.experiments.plot.matplotlib_utils.setup_plot import setup_plot"
   ]
  },
  {
   "cell_type": "code",
   "execution_count": null,
   "metadata": {},
   "outputs": [],
   "source": [
    "\n",
    "DATASET = \"Movielens1M\"\n",
    "\n",
    "\n",
    "setup_plot(234, fig_ratio=0.4, style_sheet=\"base\", font_size=8)\n",
    "\n",
    "dataset = eval(DATASET)()\n",
    "split_dict = dataset.load_split(k_core=10, split_name=\"stratified_0.8_0.1_0.1\")\n",
    "train, val, test = split_dict[\"train\"], split_dict[\"val\"], split_dict[\"test\"]\n",
    "\n",
    "# create the splits folder\n",
    "preprocessed_dir = os.path.join(dataset.data_directory, \"preprocessed\")\n",
    "k_core_dir = os.path.join(preprocessed_dir, f\"k_core_{dataset.k_core}\")\n",
    "Path(k_core_dir).mkdir(exist_ok=True)\n",
    "save_name = os.path.join(k_core_dir, \"span_eig_through_epoch.csv\")\n",
    "df = pd.read_csv(save_name)\n",
    "\n",
    "palette=sns.color_palette(\"viridis\", 4)[::-1]\n",
    "colors = {\n",
    "    \"LightGCN_1\": palette[0],\n",
    "    \"LightGCN_2\": palette[1],\n",
    "    \"LightGCN_3\": palette[2],\n",
    "    \"LightGCN_4\": palette[3],\n",
    "    \"BPR\": \"black\",\n",
    "}\n",
    "\n",
    "sizes = {\n",
    "    \"LightGCN_1\": 1,\n",
    "    \"LightGCN_2\": 1.4,\n",
    "    \"LightGCN_3\": 1.8,\n",
    "    \"LightGCN_4\": 2.2,\n",
    "    \"BPR\": 1,\n",
    "}\n",
    "\n",
    "line_style = {\n",
    "    \"LightGCN_1\":[1, 0],\n",
    "    \"LightGCN_2\":[1, 0],\n",
    "    \"LightGCN_3\":[1, 0],\n",
    "    \"LightGCN_4\":[1, 0],\n",
    "    \"BPR\": [2, 2],\n",
    "}\n",
    "\n",
    "g = sns.lineplot(\n",
    "    data=df,\n",
    "    x=\"epoch\",\n",
    "    y=\"corr\",\n",
    "    hue=\"alg\",\n",
    "    palette=colors,\n",
    "    #linewidth=3,\n",
    "    sizes=sizes,\n",
    "    size=\"alg\",\n",
    "    style=\"alg\",\n",
    "    dashes=line_style,\n",
    ")\n",
    "from matplotlib.ticker import MaxNLocator\n",
    "g.xaxis.set_major_locator(MaxNLocator(integer=True))\n",
    "\n",
    "#labels\n",
    "plt.ylabel(\"$\\\\rho(\\\\mathrm{X})$\")\n",
    "plt.xlabel(\"Epoch\")\n",
    "\n",
    "legend=plt.legend(labels=[\"$k=1$\", \"$k=2$\", \"$k=3$\", \"$k=4$\", \"BPR\"])\n",
    "legend.get_frame().set_linewidth(0.5)\n",
    "\n",
    "#plt.tight_layout(pad=0.5)\n",
    "plt.tight_layout(pad=0.0, w_pad=0.0, h_pad=0.0)\n",
    "plt.savefig(\n",
    "    \"{}/egcn_plot/{}.pdf\".format(os.environ[\"HOME\"], \"span_corr_through_epoch\"),\n",
    "    #bbox_inches=\"tight\",\n",
    ")\n",
    "plt.show()\n"
   ]
  },
  {
   "cell_type": "code",
   "execution_count": null,
   "metadata": {},
   "outputs": [],
   "source": []
  },
  {
   "cell_type": "markdown",
   "metadata": {},
   "source": []
  }
 ],
 "metadata": {
  "interpreter": {
   "hash": "fd1dd84fe0c42182d7f8c1ed11e9fe498a76a7dc32b85e3e5975b441a43850cd"
  },
  "kernelspec": {
   "display_name": "Python 3.7.6 64-bit ('grarec': conda)",
   "language": "python",
   "name": "python3"
  },
  "language_info": {
   "codemirror_mode": {
    "name": "ipython",
    "version": 3
   },
   "file_extension": ".py",
   "mimetype": "text/x-python",
   "name": "python",
   "nbconvert_exporter": "python",
   "pygments_lexer": "ipython3",
   "version": "3.7.6"
  },
  "orig_nbformat": 4
 },
 "nbformat": 4,
 "nbformat_minor": 2
}
