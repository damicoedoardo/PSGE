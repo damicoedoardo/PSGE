{
 "cells": [
  {
   "cell_type": "code",
   "execution_count": null,
   "metadata": {},
   "outputs": [],
   "source": [
    "import os\n",
    "os.getcwd()\n",
    "os.chdir(\"../../..\")\n",
    "os.getcwd()"
   ]
  },
  {
   "cell_type": "code",
   "execution_count": null,
   "metadata": {},
   "outputs": [],
   "source": [
    "from irec.data.implemented_datasets import *\n",
    "import os\n",
    "import pandas as pd\n",
    "import seaborn as sns\n",
    "import matplotlib.pyplot as plt\n",
    "import argparse\n",
    "from irec.model.psge.psge import PSGE\n",
    "from irec.experiments.svd_dataset import load_svd\n",
    "from irec.experiments.plot.matplotlib_utils.setup_plot import setup_plot"
   ]
  },
  {
   "cell_type": "code",
   "execution_count": null,
   "metadata": {},
   "outputs": [],
   "source": [
    "setup_plot(162, fig_ratio=0.7, style_sheet=\"base\", font_size=8)"
   ]
  },
  {
   "cell_type": "code",
   "execution_count": null,
   "metadata": {},
   "outputs": [],
   "source": [
    "best_param = {\n",
    "    \"MovieLens1M\": {\n",
    "        \"alpha\": 0.4,\n",
    "        \"beta\": 0.3,\n",
    "    },\n",
    "    \"Amazon Electronics\": {\n",
    "        \"alpha\": 0.5,\n",
    "        \"beta\": 0.3,\n",
    "    },\n",
    "    \"Gowalla\": {\n",
    "        \"alpha\": 0.4,\n",
    "        \"beta\": 0.3,\n",
    "    },\n",
    "}"
   ]
  },
  {
   "cell_type": "code",
   "execution_count": null,
   "metadata": {},
   "outputs": [],
   "source": [
    "KCORE = 10\n",
    "METRIC = \"NDCG\"\n",
    "CUTOFF = 20\n",
    "m_k = METRIC + \"@\" + str(CUTOFF)"
   ]
  },
  {
   "cell_type": "code",
   "execution_count": null,
   "metadata": {},
   "outputs": [],
   "source": [
    "dataset = Movielens1M()\n",
    "dataset.k_core = 10"
   ]
  },
  {
   "cell_type": "code",
   "execution_count": null,
   "metadata": {},
   "outputs": [],
   "source": [
    "model = \"PSGE\"\n",
    "preprocessed_dir = os.path.join(dataset.data_directory, \"preprocessed\")\n",
    "k_core_dir = os.path.join(preprocessed_dir, f\"k_core_{KCORE}\")\n",
    "save_path = os.path.join(k_core_dir, \"psge_results\")\n",
    "save_name = \"{}.csv\".format(eval(model).name)\n",
    "final_path = os.path.join(save_path, save_name)\n",
    "res_df = pd.read_csv(final_path, index_col=0)\n",
    "res_df[\"alg\"] = eval(model).name"
   ]
  },
  {
   "cell_type": "code",
   "execution_count": null,
   "metadata": {},
   "outputs": [],
   "source": [
    "alpha = best_param[dataset.name][\"alpha\"] \n",
    "beta = best_param[dataset.name][\"beta\"]\n",
    "_, vt, s = load_svd(\n",
    "                dataset, merge_val=True, alpha=alpha, beta=beta\n",
    "            )"
   ]
  },
  {
   "cell_type": "code",
   "execution_count": null,
   "metadata": {},
   "outputs": [],
   "source": [
    "# search for best k\n",
    "best_perf = res_df[m_k].max()\n",
    "best_k = res_df[res_df[m_k] == best_perf][\"k\"].values[0]"
   ]
  },
  {
   "cell_type": "code",
   "execution_count": null,
   "metadata": {},
   "outputs": [],
   "source": [
    "best_perf"
   ]
  },
  {
   "cell_type": "code",
   "execution_count": null,
   "metadata": {},
   "outputs": [],
   "source": [
    "from matplotlib.ticker import FormatStrFormatter\n",
    "#ax = sns.lineplot(x=\"k\", y=m_k, data=res_df, color=\"black\")\n",
    "ax = plt.gca()\n",
    "plt.plot(res_df[\"k\"].values, res_df[m_k].values, color=\"black\", label=\"NDCG@20\")\n",
    "ax_handles, ax_label = ax.get_legend_handles_labels()\n",
    "ax.set_ylabel(\"NDCG@20\")\n",
    "#ax.yaxis.set_major_formatter(FormatStrFormatter('%.2f'))\n",
    "\n",
    "plt.axvline(x=best_k, ymax=1, ymin=0, ls=(0, (5,1)), alpha=1)\n",
    "\n",
    "plt.xlabel(\"$k$\")\n",
    "ax2 = ax.twinx()\n",
    "ax2.tick_params(direction=\"in\", length=1.5, width=0.5)\n",
    "perf_k = [0, *res_df[\"k\"].values]\n",
    "ax2.plot(perf_k, s[list(map(int,perf_k))], color=\"red\", linestyle=\"--\", label=\"$\\lambda$\")\n",
    "ax2.set_ylabel(\"$\\lambda$\")\n",
    "ax2.grid(False)\n",
    "ax2_handles, ax2_label = ax2.get_legend_handles_labels()\n",
    "\n",
    "handles, labels = [*ax_handles, *ax2_handles], [*ax_label, *ax2_label] \n",
    "\n",
    "plt.legend(handles, labels, bbox_to_anchor=(1,0.4), loc=\"upper right\")\n",
    "plt.gca().legend_.get_frame().set_linewidth(0.5)\n",
    "\n",
    "plt.tight_layout(pad=0.5)\n",
    "plt.savefig(\"{}/egcn_plot/{}.pdf\".format(os.environ[\"HOME\"], f\"{dataset.name}_sp_perf\"),)"
   ]
  },
  {
   "cell_type": "code",
   "execution_count": null,
   "metadata": {},
   "outputs": [],
   "source": []
  },
  {
   "cell_type": "code",
   "execution_count": null,
   "metadata": {},
   "outputs": [],
   "source": []
  }
 ],
 "metadata": {
  "interpreter": {
   "hash": "fd1dd84fe0c42182d7f8c1ed11e9fe498a76a7dc32b85e3e5975b441a43850cd"
  },
  "kernelspec": {
   "display_name": "Python 3.7.6 64-bit ('grarec': conda)",
   "language": "python",
   "name": "python3"
  },
  "language_info": {
   "codemirror_mode": {
    "name": "ipython",
    "version": 3
   },
   "file_extension": ".py",
   "mimetype": "text/x-python",
   "name": "python",
   "nbconvert_exporter": "python",
   "pygments_lexer": "ipython3",
   "version": "3.7.6"
  },
  "orig_nbformat": 4
 },
 "nbformat": 4,
 "nbformat_minor": 2
}
