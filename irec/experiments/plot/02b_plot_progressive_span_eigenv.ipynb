{
 "cells": [
  {
   "cell_type": "code",
   "execution_count": null,
   "metadata": {},
   "outputs": [],
   "source": [
    "import os\n",
    "os.getcwd()\n",
    "os.chdir(\"../../..\")\n",
    "os.getcwd()\n"
   ]
  },
  {
   "cell_type": "code",
   "execution_count": null,
   "metadata": {},
   "outputs": [],
   "source": [
    "from tqdm import tqdm\n",
    "import os\n",
    "from irec.data.implemented_datasets import *\n",
    "from irec.experiments.best_models import load_model, load_model_span_eigv\n",
    "from irec.experiments.eigendecomposition_dataset import load_eigendecomposition\n",
    "from irec.experiments.plot.matplotlib_utils.setup_plot import setup_plot\n",
    "from irec.experiments.span_eigenv_through_epoch import compute_corr\n",
    "from irec.model.bpr.bpr import BPR\n",
    "from irec.model.lightgcn.lightgcn import LightGCN\n",
    "from irec.evaluation.python_evaluation import *\n",
    "import seaborn as sns\n",
    "import matplotlib.pyplot as plt"
   ]
  },
  {
   "cell_type": "code",
   "execution_count": null,
   "metadata": {},
   "outputs": [],
   "source": [
    "DATASET = \"Movielens1M\"\n",
    "KCORE = 10\n",
    "DATASET_SPLIT = \"stratified_0.8_0.1_0.1\"\n",
    "MODELS = [LightGCN, BPR]\n",
    "MAX_K = 21"
   ]
  },
  {
   "cell_type": "code",
   "execution_count": null,
   "metadata": {},
   "outputs": [],
   "source": [
    "setup_plot(234, fig_ratio=0.4, style_sheet=\"base\")\n",
    "# load data\n",
    "dataset = eval(DATASET)()\n",
    "dataset.load(k_core=KCORE)\n",
    "split_dict = dataset.load_split(k_core=KCORE, split_name=DATASET_SPLIT)\n",
    "train, val, test = split_dict[\"train\"], split_dict[\"val\"], split_dict[\"test\"]"
   ]
  },
  {
   "cell_type": "code",
   "execution_count": null,
   "metadata": {},
   "outputs": [],
   "source": [
    "# load eigenvectors\n",
    "eig, _ = load_eigendecomposition(dataset=dataset, kind=\"adjacency\")"
   ]
  },
  {
   "cell_type": "code",
   "execution_count": null,
   "metadata": {},
   "outputs": [],
   "source": [
    "corr_list = []\n",
    "k_list = []\n",
    "alg_name = []\n",
    "for m in MODELS:\n",
    "    model = load_model(m, dataset, train)\n",
    "    for i in tqdm(range(1, MAX_K)):\n",
    "        f_eig = eig[:, -i:]\n",
    "        # compute spectral coefficient\n",
    "        c = compute_corr(f_eig, model)\n",
    "        corr_list.append(c)\n",
    "        k_list.append(i)\n",
    "        alg_name.append(m.name)"
   ]
  },
  {
   "cell_type": "code",
   "execution_count": null,
   "metadata": {},
   "outputs": [],
   "source": [
    "r_df = pd.DataFrame(zip(corr_list, alg_name, k_list), columns=[\"corr\", \"alg\", \"k\"])"
   ]
  },
  {
   "cell_type": "code",
   "execution_count": null,
   "metadata": {},
   "outputs": [],
   "source": [
    "from matplotlib.ticker import MaxNLocator\n",
    "\n",
    "line_style = {\n",
    "    \"LightGCN\": [1, 0],\n",
    "    \"BPR\": [2, 2],\n",
    "}\n",
    "\n",
    "colors = {\n",
    "    \"LightGCN\": \"black\",\n",
    "    \"BPR\": \"black\",\n",
    "}\n",
    "ax = plt.figure().gca()\n",
    "ax.xaxis.set_major_locator(MaxNLocator(integer=True))\n",
    "\n",
    "sns.lineplot(\n",
    "    data=r_df,\n",
    "    x=\"k\",\n",
    "    y=\"corr\",\n",
    "    style=\"alg\",\n",
    "    dashes=line_style,\n",
    "    palette=colors,\n",
    "    hue=\"alg\",\n",
    ")\n",
    "\n",
    "legend = plt.legend(labels=[\"LightGCN\", \"BPR\"])\n",
    "legend.get_frame().set_linewidth(0.5)\n",
    "\n",
    "# labels\n",
    "plt.ylabel(\"$\\\\rho(\\\\mathrm{X})$\")\n",
    "plt.xlabel(\"$\\ell$\")\n",
    "plt.xticks([2,4,6,8,10,12,14,16,18,20])\n",
    "\n",
    "plt.axhline(y=1, color=\"r\", linestyle=\"dotted\")\n",
    "\n",
    "plt.tight_layout(pad=0.0, w_pad=0.0, h_pad=0.0)\n",
    "plt.savefig(\n",
    "    \"{}/egcn_plot/{}.pdf\".format(os.environ[\"HOME\"], \"progressive_span\"),\n",
    "    # bbox_inches=\"tight\",\n",
    ")\n",
    "plt.show()"
   ]
  },
  {
   "cell_type": "code",
   "execution_count": null,
   "metadata": {},
   "outputs": [],
   "source": []
  }
 ],
 "metadata": {
  "interpreter": {
   "hash": "fd1dd84fe0c42182d7f8c1ed11e9fe498a76a7dc32b85e3e5975b441a43850cd"
  },
  "kernelspec": {
   "display_name": "Python 3.7.6 64-bit ('grarec': conda)",
   "language": "python",
   "name": "python3"
  },
  "language_info": {
   "codemirror_mode": {
    "name": "ipython",
    "version": 3
   },
   "file_extension": ".py",
   "mimetype": "text/x-python",
   "name": "python",
   "nbconvert_exporter": "python",
   "pygments_lexer": "ipython3",
   "version": "3.7.6"
  },
  "orig_nbformat": 4
 },
 "nbformat": 4,
 "nbformat_minor": 2
}
