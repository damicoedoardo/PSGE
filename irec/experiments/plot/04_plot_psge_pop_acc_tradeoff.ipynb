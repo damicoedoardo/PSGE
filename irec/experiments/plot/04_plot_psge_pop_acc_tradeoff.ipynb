{
 "cells": [
  {
   "cell_type": "code",
   "execution_count": null,
   "metadata": {},
   "outputs": [],
   "source": [
    "import os\n",
    "os.getcwd()\n",
    "os.chdir(\"../../..\")\n",
    "os.getcwd()"
   ]
  },
  {
   "cell_type": "code",
   "execution_count": null,
   "metadata": {},
   "outputs": [],
   "source": [
    "from irec.experiments.plot.matplotlib_utils.setup_plot import setup_plot\n",
    "from pathlib import Path\n",
    "from irec.data.implemented_datasets import *\n",
    "import os\n",
    "import pandas as pd\n",
    "import seaborn as sns\n",
    "import matplotlib.pyplot as plt"
   ]
  },
  {
   "cell_type": "code",
   "execution_count": null,
   "metadata": {},
   "outputs": [],
   "source": [
    "DATASET = \"Gowalla\"\n",
    "POP_KIND = \"\""
   ]
  },
  {
   "cell_type": "code",
   "execution_count": null,
   "metadata": {},
   "outputs": [],
   "source": [
    "if POP_KIND == \"REL\":\n",
    "    pop = \"rel_avg_pop\"\n",
    "    pop_name = \"Relative Average Popularity\"\n",
    "else:\n",
    "    pop = \"avg_pop\"\n",
    "    pop_name = \"Average Popularity\""
   ]
  },
  {
   "cell_type": "code",
   "execution_count": null,
   "metadata": {},
   "outputs": [],
   "source": [
    "setup_plot(162, fig_ratio=0.8, style_sheet=\"base\", font_size=8)"
   ]
  },
  {
   "cell_type": "code",
   "execution_count": null,
   "metadata": {},
   "outputs": [],
   "source": [
    "dataset = eval(DATASET)()\n",
    "split_dict = dataset.load_split(k_core=10, split_name=\"stratified_0.8_0.1_0.1\")\n",
    "train, val, test = split_dict[\"train\"], split_dict[\"val\"], split_dict[\"test\"]"
   ]
  },
  {
   "cell_type": "code",
   "execution_count": null,
   "metadata": {},
   "outputs": [],
   "source": [
    "# create the splits folder\n",
    "preprocessed_dir = os.path.join(dataset.data_directory, \"preprocessed\")\n",
    "k_core_dir = os.path.join(preprocessed_dir, f\"k_core_{dataset.k_core}\")\n",
    "\n",
    "# load dfs\n",
    "save_name = os.path.join(k_core_dir, \"res_df\")\n",
    "res_df = pd.read_csv(save_name)\n",
    "save_name = os.path.join(k_core_dir, \"psge_res_df\")\n",
    "sp_res_df = pd.read_csv(save_name)\n",
    "\n",
    "# filter on cutoff of interest\n",
    "filtered_res_df = res_df[res_df[\"cutoff\"] == 20]\n",
    "filtered_sp_res_df = sp_res_df[sp_res_df[\"cutoff\"] == 20]"
   ]
  },
  {
   "cell_type": "code",
   "execution_count": null,
   "metadata": {},
   "outputs": [],
   "source": [
    "# plot on top scatter normal models\n",
    "ax = sns.scatterplot(\n",
    "    data=filtered_res_df,\n",
    "    x=pop,\n",
    "    y=\"metric_score\",\n",
    "    hue=\"alg\",\n",
    "    style=\"alg\",\n",
    "    s=50\n",
    "    #markers=['o', 'v', '^', \"s\"]\n",
    ")\n",
    "sns.lineplot(\n",
    "    data=filtered_sp_res_df,\n",
    "    x=pop,\n",
    "    y=\"metric_score\",\n",
    "    style=\"alg\",\n",
    "    linewidth=1,\n",
    "    dashes=[(2,2)],\n",
    "    markers=True,\n",
    "    markersize=4,\n",
    "    ax=ax,\n",
    "    color=\"black\"\n",
    ")\n",
    "\n",
    "# labels\n",
    "if dataset.name == \"MovieLens1M\":\n",
    "    plt.ylabel(\"NDCG@20\")\n",
    "    # legend\n",
    "    ax.legend(bbox_to_anchor=(0.4,0.01), loc=\"lower center\")\n",
    "    ax.legend_.set_title(None)\n",
    "    ax.legend_.get_frame().set_linewidth(0.5)\n",
    "    \n",
    "else:\n",
    "    #plt.ylabel(\"\")\n",
    "    plt.ylabel(\"NDCG@20\")\n",
    "    ax.legend_.remove()\n",
    "\n",
    "plt.xlabel(pop_name)\n",
    "#ax.set_xscale(\"log\")\n",
    "#plt.ylim(0.20)\n",
    "plt.tight_layout(pad=0.0, w_pad=0.0, h_pad=0.0)\n",
    "plt.savefig(\n",
    "    \"{}/egcn_plot/{}.pdf\".format(os.environ[\"HOME\"], f\"{DATASET}_{pop_name}\"),\n",
    ")\n",
    "plt.show()"
   ]
  },
  {
   "cell_type": "code",
   "execution_count": null,
   "metadata": {},
   "outputs": [],
   "source": []
  },
  {
   "cell_type": "code",
   "execution_count": null,
   "metadata": {},
   "outputs": [],
   "source": []
  }
 ],
 "metadata": {
  "interpreter": {
   "hash": "fd1dd84fe0c42182d7f8c1ed11e9fe498a76a7dc32b85e3e5975b441a43850cd"
  },
  "kernelspec": {
   "display_name": "Python 3.7.6 64-bit ('grarec': conda)",
   "language": "python",
   "name": "python3"
  },
  "language_info": {
   "codemirror_mode": {
    "name": "ipython",
    "version": 3
   },
   "file_extension": ".py",
   "mimetype": "text/x-python",
   "name": "python",
   "nbconvert_exporter": "python",
   "pygments_lexer": "ipython3",
   "version": "3.7.6"
  },
  "orig_nbformat": 4
 },
 "nbformat": 4,
 "nbformat_minor": 2
}
